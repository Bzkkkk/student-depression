{
 "cells": [
  {
   "cell_type": "markdown",
   "id": "c7d7097e",
   "metadata": {},
   "source": [
    "## 学生抑郁分析\n",
    "\n",
    "**目录**\n",
    "1. [探索性数据分析（EDA）](#1-探索性数据分析-eda)\n",
    "2. [聚类分析](#2-聚类分析)\n",
    "3. [分类模型与预测分析](#3-分类模型与预测分析)\n",
    "4. [关联规则挖掘](#4-关联规则挖掘)\n"
   ]
  },
  {
   "cell_type": "markdown",
   "id": "a3ff1900",
   "metadata": {},
   "source": [
    "### 导入第三方库"
   ]
  },
  {
   "cell_type": "code",
   "execution_count": 1,
   "id": "4c9a5344",
   "metadata": {},
   "outputs": [],
   "source": [
    "import numpy as np\n",
    "import pandas as pd\n",
    "from pprint import pprint\n",
    "from mlxtend.frequent_patterns import apriori, association_rules \n",
    "import matplotlib.pyplot as plt\n",
    "from dm_utils import *\n",
    "\n",
    "%matplotlib inline"
   ]
  },
  {
   "cell_type": "markdown",
   "id": "104736ec",
   "metadata": {},
   "source": [
    "### 1. 探索性数据分析 (EDA)"
   ]
  },
  {
   "cell_type": "code",
   "execution_count": 2,
   "id": "dd42b8ed",
   "metadata": {},
   "outputs": [
    {
     "data": {
      "text/html": [
       "<div>\n",
       "<style scoped>\n",
       "    .dataframe tbody tr th:only-of-type {\n",
       "        vertical-align: middle;\n",
       "    }\n",
       "\n",
       "    .dataframe tbody tr th {\n",
       "        vertical-align: top;\n",
       "    }\n",
       "\n",
       "    .dataframe thead th {\n",
       "        text-align: right;\n",
       "    }\n",
       "</style>\n",
       "<table border=\"1\" class=\"dataframe\">\n",
       "  <thead>\n",
       "    <tr style=\"text-align: right;\">\n",
       "      <th></th>\n",
       "      <th>id</th>\n",
       "      <th>Gender</th>\n",
       "      <th>Age</th>\n",
       "      <th>City</th>\n",
       "      <th>Profession</th>\n",
       "      <th>Academic Pressure</th>\n",
       "      <th>Work Pressure</th>\n",
       "      <th>CGPA</th>\n",
       "      <th>Study Satisfaction</th>\n",
       "      <th>Job Satisfaction</th>\n",
       "      <th>Sleep Duration</th>\n",
       "      <th>Dietary Habits</th>\n",
       "      <th>Degree</th>\n",
       "      <th>Have you ever had suicidal thoughts ?</th>\n",
       "      <th>Work/Study Hours</th>\n",
       "      <th>Financial Stress</th>\n",
       "      <th>Family History of Mental Illness</th>\n",
       "      <th>Depression</th>\n",
       "    </tr>\n",
       "  </thead>\n",
       "  <tbody>\n",
       "    <tr>\n",
       "      <th>0</th>\n",
       "      <td>2</td>\n",
       "      <td>Male</td>\n",
       "      <td>33.0</td>\n",
       "      <td>Visakhapatnam</td>\n",
       "      <td>Student</td>\n",
       "      <td>5.0</td>\n",
       "      <td>0.0</td>\n",
       "      <td>8.97</td>\n",
       "      <td>2.0</td>\n",
       "      <td>0.0</td>\n",
       "      <td>5-6 hours</td>\n",
       "      <td>Healthy</td>\n",
       "      <td>B.Pharm</td>\n",
       "      <td>Yes</td>\n",
       "      <td>3.0</td>\n",
       "      <td>1.0</td>\n",
       "      <td>No</td>\n",
       "      <td>1</td>\n",
       "    </tr>\n",
       "    <tr>\n",
       "      <th>1</th>\n",
       "      <td>8</td>\n",
       "      <td>Female</td>\n",
       "      <td>24.0</td>\n",
       "      <td>Bangalore</td>\n",
       "      <td>Student</td>\n",
       "      <td>2.0</td>\n",
       "      <td>0.0</td>\n",
       "      <td>5.90</td>\n",
       "      <td>5.0</td>\n",
       "      <td>0.0</td>\n",
       "      <td>5-6 hours</td>\n",
       "      <td>Moderate</td>\n",
       "      <td>BSc</td>\n",
       "      <td>No</td>\n",
       "      <td>3.0</td>\n",
       "      <td>2.0</td>\n",
       "      <td>Yes</td>\n",
       "      <td>0</td>\n",
       "    </tr>\n",
       "    <tr>\n",
       "      <th>2</th>\n",
       "      <td>26</td>\n",
       "      <td>Male</td>\n",
       "      <td>31.0</td>\n",
       "      <td>Srinagar</td>\n",
       "      <td>Student</td>\n",
       "      <td>3.0</td>\n",
       "      <td>0.0</td>\n",
       "      <td>7.03</td>\n",
       "      <td>5.0</td>\n",
       "      <td>0.0</td>\n",
       "      <td>Less than 5 hours</td>\n",
       "      <td>Healthy</td>\n",
       "      <td>BA</td>\n",
       "      <td>No</td>\n",
       "      <td>9.0</td>\n",
       "      <td>1.0</td>\n",
       "      <td>Yes</td>\n",
       "      <td>0</td>\n",
       "    </tr>\n",
       "    <tr>\n",
       "      <th>3</th>\n",
       "      <td>30</td>\n",
       "      <td>Female</td>\n",
       "      <td>28.0</td>\n",
       "      <td>Varanasi</td>\n",
       "      <td>Student</td>\n",
       "      <td>3.0</td>\n",
       "      <td>0.0</td>\n",
       "      <td>5.59</td>\n",
       "      <td>2.0</td>\n",
       "      <td>0.0</td>\n",
       "      <td>7-8 hours</td>\n",
       "      <td>Moderate</td>\n",
       "      <td>BCA</td>\n",
       "      <td>Yes</td>\n",
       "      <td>4.0</td>\n",
       "      <td>5.0</td>\n",
       "      <td>Yes</td>\n",
       "      <td>1</td>\n",
       "    </tr>\n",
       "    <tr>\n",
       "      <th>4</th>\n",
       "      <td>32</td>\n",
       "      <td>Female</td>\n",
       "      <td>25.0</td>\n",
       "      <td>Jaipur</td>\n",
       "      <td>Student</td>\n",
       "      <td>4.0</td>\n",
       "      <td>0.0</td>\n",
       "      <td>8.13</td>\n",
       "      <td>3.0</td>\n",
       "      <td>0.0</td>\n",
       "      <td>5-6 hours</td>\n",
       "      <td>Moderate</td>\n",
       "      <td>M.Tech</td>\n",
       "      <td>Yes</td>\n",
       "      <td>1.0</td>\n",
       "      <td>1.0</td>\n",
       "      <td>No</td>\n",
       "      <td>0</td>\n",
       "    </tr>\n",
       "  </tbody>\n",
       "</table>\n",
       "</div>"
      ],
      "text/plain": [
       "   id  Gender   Age           City Profession  Academic Pressure  \\\n",
       "0   2    Male  33.0  Visakhapatnam    Student                5.0   \n",
       "1   8  Female  24.0      Bangalore    Student                2.0   \n",
       "2  26    Male  31.0       Srinagar    Student                3.0   \n",
       "3  30  Female  28.0       Varanasi    Student                3.0   \n",
       "4  32  Female  25.0         Jaipur    Student                4.0   \n",
       "\n",
       "   Work Pressure  CGPA  Study Satisfaction  Job Satisfaction  \\\n",
       "0            0.0  8.97                 2.0               0.0   \n",
       "1            0.0  5.90                 5.0               0.0   \n",
       "2            0.0  7.03                 5.0               0.0   \n",
       "3            0.0  5.59                 2.0               0.0   \n",
       "4            0.0  8.13                 3.0               0.0   \n",
       "\n",
       "      Sleep Duration Dietary Habits   Degree  \\\n",
       "0          5-6 hours        Healthy  B.Pharm   \n",
       "1          5-6 hours       Moderate      BSc   \n",
       "2  Less than 5 hours        Healthy       BA   \n",
       "3          7-8 hours       Moderate      BCA   \n",
       "4          5-6 hours       Moderate   M.Tech   \n",
       "\n",
       "  Have you ever had suicidal thoughts ?  Work/Study Hours  Financial Stress  \\\n",
       "0                                   Yes               3.0               1.0   \n",
       "1                                    No               3.0               2.0   \n",
       "2                                    No               9.0               1.0   \n",
       "3                                   Yes               4.0               5.0   \n",
       "4                                   Yes               1.0               1.0   \n",
       "\n",
       "  Family History of Mental Illness  Depression  \n",
       "0                               No           1  \n",
       "1                              Yes           0  \n",
       "2                              Yes           0  \n",
       "3                              Yes           1  \n",
       "4                               No           0  "
      ]
     },
     "execution_count": 2,
     "metadata": {},
     "output_type": "execute_result"
    }
   ],
   "source": [
    "df = pd.read_csv('Student Depression Dataset.csv')\n",
    "df.head()"
   ]
  },
  {
   "cell_type": "markdown",
   "id": "f8ce0627",
   "metadata": {},
   "source": [
    "`Financial Stress` 可能是空, 如何处理?"
   ]
  },
  {
   "cell_type": "code",
   "execution_count": 3,
   "id": "74c2bb84",
   "metadata": {},
   "outputs": [
    {
     "data": {
      "text/html": [
       "<div>\n",
       "<style scoped>\n",
       "    .dataframe tbody tr th:only-of-type {\n",
       "        vertical-align: middle;\n",
       "    }\n",
       "\n",
       "    .dataframe tbody tr th {\n",
       "        vertical-align: top;\n",
       "    }\n",
       "\n",
       "    .dataframe thead th {\n",
       "        text-align: right;\n",
       "    }\n",
       "</style>\n",
       "<table border=\"1\" class=\"dataframe\">\n",
       "  <thead>\n",
       "    <tr style=\"text-align: right;\">\n",
       "      <th></th>\n",
       "      <th>id</th>\n",
       "      <th>Gender</th>\n",
       "      <th>Age</th>\n",
       "      <th>City</th>\n",
       "      <th>Profession</th>\n",
       "      <th>Academic Pressure</th>\n",
       "      <th>Work Pressure</th>\n",
       "      <th>CGPA</th>\n",
       "      <th>Study Satisfaction</th>\n",
       "      <th>Job Satisfaction</th>\n",
       "      <th>Sleep Duration</th>\n",
       "      <th>Dietary Habits</th>\n",
       "      <th>Degree</th>\n",
       "      <th>Have you ever had suicidal thoughts ?</th>\n",
       "      <th>Work/Study Hours</th>\n",
       "      <th>Financial Stress</th>\n",
       "      <th>Family History of Mental Illness</th>\n",
       "      <th>Depression</th>\n",
       "    </tr>\n",
       "  </thead>\n",
       "  <tbody>\n",
       "    <tr>\n",
       "      <th>4458</th>\n",
       "      <td>22377</td>\n",
       "      <td>Female</td>\n",
       "      <td>32.0</td>\n",
       "      <td>Varanasi</td>\n",
       "      <td>Student</td>\n",
       "      <td>3.0</td>\n",
       "      <td>0.0</td>\n",
       "      <td>5.64</td>\n",
       "      <td>1.0</td>\n",
       "      <td>0.0</td>\n",
       "      <td>5-6 hours</td>\n",
       "      <td>Healthy</td>\n",
       "      <td>BCA</td>\n",
       "      <td>No</td>\n",
       "      <td>12.0</td>\n",
       "      <td>NaN</td>\n",
       "      <td>No</td>\n",
       "      <td>1</td>\n",
       "    </tr>\n",
       "    <tr>\n",
       "      <th>13596</th>\n",
       "      <td>68910</td>\n",
       "      <td>Male</td>\n",
       "      <td>29.0</td>\n",
       "      <td>Hyderabad</td>\n",
       "      <td>Student</td>\n",
       "      <td>2.0</td>\n",
       "      <td>0.0</td>\n",
       "      <td>8.94</td>\n",
       "      <td>3.0</td>\n",
       "      <td>0.0</td>\n",
       "      <td>Less than 5 hours</td>\n",
       "      <td>Unhealthy</td>\n",
       "      <td>B.Ed</td>\n",
       "      <td>No</td>\n",
       "      <td>12.0</td>\n",
       "      <td>NaN</td>\n",
       "      <td>Yes</td>\n",
       "      <td>0</td>\n",
       "    </tr>\n",
       "    <tr>\n",
       "      <th>19266</th>\n",
       "      <td>97610</td>\n",
       "      <td>Female</td>\n",
       "      <td>20.0</td>\n",
       "      <td>Kolkata</td>\n",
       "      <td>Student</td>\n",
       "      <td>1.0</td>\n",
       "      <td>0.0</td>\n",
       "      <td>6.83</td>\n",
       "      <td>1.0</td>\n",
       "      <td>0.0</td>\n",
       "      <td>5-6 hours</td>\n",
       "      <td>Healthy</td>\n",
       "      <td>MBBS</td>\n",
       "      <td>No</td>\n",
       "      <td>9.0</td>\n",
       "      <td>NaN</td>\n",
       "      <td>Yes</td>\n",
       "      <td>0</td>\n",
       "    </tr>\n",
       "  </tbody>\n",
       "</table>\n",
       "</div>"
      ],
      "text/plain": [
       "          id  Gender   Age       City Profession  Academic Pressure  \\\n",
       "4458   22377  Female  32.0   Varanasi    Student                3.0   \n",
       "13596  68910    Male  29.0  Hyderabad    Student                2.0   \n",
       "19266  97610  Female  20.0    Kolkata    Student                1.0   \n",
       "\n",
       "       Work Pressure  CGPA  Study Satisfaction  Job Satisfaction  \\\n",
       "4458             0.0  5.64                 1.0               0.0   \n",
       "13596            0.0  8.94                 3.0               0.0   \n",
       "19266            0.0  6.83                 1.0               0.0   \n",
       "\n",
       "          Sleep Duration Dietary Habits Degree  \\\n",
       "4458           5-6 hours        Healthy    BCA   \n",
       "13596  Less than 5 hours      Unhealthy   B.Ed   \n",
       "19266          5-6 hours        Healthy   MBBS   \n",
       "\n",
       "      Have you ever had suicidal thoughts ?  Work/Study Hours  \\\n",
       "4458                                     No              12.0   \n",
       "13596                                    No              12.0   \n",
       "19266                                    No               9.0   \n",
       "\n",
       "       Financial Stress Family History of Mental Illness  Depression  \n",
       "4458                NaN                               No           1  \n",
       "13596               NaN                              Yes           0  \n",
       "19266               NaN                              Yes           0  "
      ]
     },
     "execution_count": 3,
     "metadata": {},
     "output_type": "execute_result"
    }
   ],
   "source": [
    "rows_with_nan = df[df.isnull().any(axis=1)]\n",
    "rows_with_nan"
   ]
  },
  {
   "cell_type": "markdown",
   "id": "09db27fb",
   "metadata": {},
   "source": [
    "简单起见, 先删掉这三行数据"
   ]
  },
  {
   "cell_type": "code",
   "execution_count": 4,
   "id": "ca1dac9c",
   "metadata": {},
   "outputs": [],
   "source": [
    "df = df.dropna()\n",
    "# rows_with_nan = df[df.isnull().any(axis=1)]\n",
    "# rows_with_nan"
   ]
  },
  {
   "cell_type": "code",
   "execution_count": 5,
   "id": "5a4b92d2",
   "metadata": {},
   "outputs": [
    {
     "data": {
      "text/plain": [
       "array(['Visakhapatnam', 'Bangalore', 'Srinagar', 'Varanasi', 'Jaipur',\n",
       "       'Pune', 'Thane', 'Chennai', 'Nagpur', 'Nashik', 'Vadodara',\n",
       "       'Kalyan', 'Rajkot', 'Ahmedabad', 'Kolkata', 'Mumbai', 'Lucknow',\n",
       "       'Indore', 'Surat', 'Ludhiana', 'Bhopal', 'Meerut', 'Agra',\n",
       "       'Ghaziabad', 'Hyderabad', 'Vasai-Virar', 'Kanpur', 'Patna',\n",
       "       'Faridabad', 'Delhi', 'Saanvi', 'M.Tech', 'Bhavna', 'Less Delhi',\n",
       "       'City', '3.0', 'Less than 5 Kalyan', 'Mira', 'Harsha', 'Vaanya',\n",
       "       'Gaurav', 'Harsh', 'Reyansh', 'Kibara', 'Rashi', 'ME', 'M.Com',\n",
       "       'Nalyan', 'Mihir', 'Nalini', 'Nandini', 'Khaziabad'], dtype=object)"
      ]
     },
     "execution_count": 5,
     "metadata": {},
     "output_type": "execute_result"
    }
   ],
   "source": [
    "df.City.unique()"
   ]
  },
  {
   "cell_type": "markdown",
   "id": "dfdf720c",
   "metadata": {},
   "source": [
    "这些城市都在印度, 数据可能来源于印度"
   ]
  },
  {
   "cell_type": "code",
   "execution_count": 6,
   "id": "499857a3",
   "metadata": {},
   "outputs": [
    {
     "data": {
      "text/plain": [
       "array(['Student', 'Civil Engineer', 'Architect', 'UX/UI Designer',\n",
       "       'Digital Marketer', 'Content Writer', 'Educational Consultant',\n",
       "       'Teacher', 'Manager', 'Chef', 'Doctor', 'Lawyer', 'Entrepreneur',\n",
       "       'Pharmacist'], dtype=object)"
      ]
     },
     "execution_count": 6,
     "metadata": {},
     "output_type": "execute_result"
    }
   ],
   "source": [
    "df.Profession.unique()"
   ]
  },
  {
   "cell_type": "markdown",
   "id": "68744134",
   "metadata": {},
   "source": [
    "查看 Age 的分布情况"
   ]
  },
  {
   "cell_type": "code",
   "execution_count": 7,
   "id": "2e693b19",
   "metadata": {},
   "outputs": [
    {
     "name": "stdout",
     "output_type": "stream",
     "text": [
      "[33. 24. 31. 28. 25. 29. 30. 27. 19. 20. 23. 18. 21. 22. 34. 32. 26. 39.\n",
      " 35. 42. 36. 58. 49. 38. 51. 44. 43. 46. 59. 54. 48. 56. 37. 41.]\n",
      "Number of unique ages: 34, max age: 59.0, min age: 18.0\n"
     ]
    }
   ],
   "source": [
    "print(df.Age.unique())\n",
    "print(f'Number of unique ages: {len(df.Age.unique())}, max age: {df.Age.max()}, min age: {df.Age.min()}')"
   ]
  },
  {
   "cell_type": "code",
   "execution_count": 8,
   "id": "df92a54e",
   "metadata": {},
   "outputs": [
    {
     "data": {
      "image/png": "[encoded data removed]",
      "text/plain": [
       "<Figure size 1000x600 with 1 Axes>"
      ]
     },
     "metadata": {},
     "output_type": "display_data"
    }
   ],
   "source": [
    "hist_plot(df['Age'], bins=40,\n",
    "          title='Age Distribution of Students',\n",
    "          xlabel='Age',\n",
    "          ylabel='Count')"
   ]
  },
  {
   "cell_type": "markdown",
   "id": "9cea8f3c",
   "metadata": {},
   "source": [
    "查看 Academic Pressure 的分布情况"
   ]
  },
  {
   "cell_type": "code",
   "execution_count": 9,
   "id": "0a095dba",
   "metadata": {},
   "outputs": [
    {
     "data": {
      "image/png": "[encoded data removed]",
      "text/plain": [
       "<Figure size 1000x600 with 1 Axes>"
      ]
     },
     "metadata": {},
     "output_type": "display_data"
    }
   ],
   "source": [
    "hist_plot(df['Academic Pressure'], bins=200,\n",
    "          title='Academic Pressure Distribution of Students',\n",
    "          xlabel='Academic Pressure',\n",
    "          ylabel='Count')"
   ]
  },
  {
   "cell_type": "markdown",
   "id": "5c9e078e",
   "metadata": {},
   "source": [
    "查看 Work Pressure 的分布情况, 可以看出数据可能有偏, Work Pressure 均为 0.0"
   ]
  },
  {
   "cell_type": "code",
   "execution_count": 10,
   "id": "1d3c098d",
   "metadata": {},
   "outputs": [
    {
     "data": {
      "image/png": "[encoded data removed]",
      "text/plain": [
       "<Figure size 1000x600 with 1 Axes>"
      ]
     },
     "metadata": {},
     "output_type": "display_data"
    }
   ],
   "source": [
    "hist_plot(df['Work Pressure'], bins=20,\n",
    "            title='Work Pressure Distribution of Students',\n",
    "            xlabel='Work Pressure',\n",
    "            ylabel='Count')"
   ]
  },
  {
   "cell_type": "markdown",
   "id": "bd5a1c42",
   "metadata": {},
   "source": [
    "查看 CGPA 的分布情况"
   ]
  },
  {
   "cell_type": "code",
   "execution_count": 11,
   "id": "a191e2f6",
   "metadata": {},
   "outputs": [
    {
     "data": {
      "image/png": "[encoded data removed]",
      "text/plain": [
       "<Figure size 1000x600 with 1 Axes>"
      ]
     },
     "metadata": {},
     "output_type": "display_data"
    }
   ],
   "source": [
    "hist_plot(df['CGPA'], bins=100,\n",
    "          title='CGPA Distribution of Students',\n",
    "          xlabel='CGPA',\n",
    "          ylabel='Count')"
   ]
  },
  {
   "cell_type": "markdown",
   "id": "84524e32",
   "metadata": {},
   "source": [
    "查看 Study Statisfaction 的分布情况"
   ]
  },
  {
   "cell_type": "code",
   "execution_count": 12,
   "id": "5df788e9",
   "metadata": {},
   "outputs": [
    {
     "data": {
      "image/png": "[encoded data removed]",
      "text/plain": [
       "<Figure size 1000x600 with 1 Axes>"
      ]
     },
     "metadata": {},
     "output_type": "display_data"
    }
   ],
   "source": [
    "hist_plot(df['Study Satisfaction'], bins=100,\n",
    "          title='Study Satisfaction Distribution of Students',\n",
    "          xlabel='Study Satisfaction',\n",
    "          ylabel='Count')"
   ]
  },
  {
   "cell_type": "markdown",
   "id": "1dce44d3",
   "metadata": {},
   "source": [
    "查看 Job Statisfaction 的分布情况, 可以看出数据可能有偏, Job Satisfaction 均为 0.0"
   ]
  },
  {
   "cell_type": "code",
   "execution_count": 13,
   "id": "d0814adc",
   "metadata": {},
   "outputs": [
    {
     "data": {
      "image/png": "[encoded data removed]",
      "text/plain": [
       "<Figure size 1000x600 with 1 Axes>"
      ]
     },
     "metadata": {},
     "output_type": "display_data"
    }
   ],
   "source": [
    "hist_plot(df['Job Satisfaction'], bins=100,\n",
    "          title='Job Satisfaction Distribution of Students',\n",
    "          xlabel='Job Satisfaction',\n",
    "          ylabel='Count')"
   ]
  },
  {
   "cell_type": "markdown",
   "id": "93ad5ec3",
   "metadata": {},
   "source": [
    "查看 Work/Study Hours 的分布情况"
   ]
  },
  {
   "cell_type": "code",
   "execution_count": 14,
   "id": "659ba0eb",
   "metadata": {},
   "outputs": [
    {
     "data": {
      "image/png": "[encoded data removed]",
      "text/plain": [
       "<Figure size 1000x600 with 1 Axes>"
      ]
     },
     "metadata": {},
     "output_type": "display_data"
    }
   ],
   "source": [
    "hist_plot(df['Work/Study Hours'], bins=50,\n",
    "          title='Work/Study Hours Distribution of Students',\n",
    "          xlabel='Work/Study Hours',\n",
    "          ylabel='Count')"
   ]
  },
  {
   "cell_type": "markdown",
   "id": "7aebe0f3",
   "metadata": {},
   "source": [
    "查看 Financial Stress 的分布情况"
   ]
  },
  {
   "cell_type": "code",
   "execution_count": 15,
   "id": "53b99c05",
   "metadata": {},
   "outputs": [
    {
     "data": {
      "image/png": "[encoded data removed]",
      "text/plain": [
       "<Figure size 1000x600 with 1 Axes>"
      ]
     },
     "metadata": {},
     "output_type": "display_data"
    }
   ],
   "source": [
    "hist_plot(df['Financial Stress'], bins=10,\n",
    "          title='Financial Stress Distribution of Students',\n",
    "          xlabel='Financial Stress',\n",
    "          ylabel='Count')"
   ]
  },
  {
   "cell_type": "markdown",
   "id": "1e60373d",
   "metadata": {},
   "source": [
    "查看 Sleep Duration 的分布情况"
   ]
  },
  {
   "cell_type": "code",
   "execution_count": 16,
   "id": "57fdc05c",
   "metadata": {},
   "outputs": [
    {
     "data": {
      "text/plain": [
       "array(['5-6 hours', 'Less than 5 hours', '7-8 hours', 'More than 8 hours',\n",
       "       'Others'], dtype=object)"
      ]
     },
     "execution_count": 16,
     "metadata": {},
     "output_type": "execute_result"
    }
   ],
   "source": [
    "df['Sleep Duration'].unique()"
   ]
  },
  {
   "cell_type": "code",
   "execution_count": 17,
   "id": "2f0db39d",
   "metadata": {},
   "outputs": [
    {
     "data": {
      "image/png": "[encoded data removed]",
      "text/plain": [
       "<Figure size 1000x600 with 1 Axes>"
      ]
     },
     "metadata": {},
     "output_type": "display_data"
    }
   ],
   "source": [
    "sleep_duration_counts = df['Sleep Duration'].value_counts()\n",
    "categories = ['5-6 hours', 'Less than 5 hours', '7-8 hours', 'More than 8 hours', 'Others']\n",
    "sleep_duration_counts = sleep_duration_counts.reindex(categories, fill_value=0)\n",
    "\n",
    "plt.figure(figsize=(10, 6))\n",
    "plt.bar(sleep_duration_counts.index, sleep_duration_counts.values, color='lightblue')\n",
    "plt.title('Sleep Duration Distribution of Students')\n",
    "plt.xlabel('Sleep Duration')\n",
    "plt.ylabel('Frequency')\n",
    "plt.xticks(rotation=45)\n",
    "plt.grid(axis='y', alpha=0.75)\n",
    "plt.show()"
   ]
  },
  {
   "cell_type": "markdown",
   "id": "2b6a25c1",
   "metadata": {},
   "source": [
    "### 2. 聚类分析"
   ]
  },
  {
   "cell_type": "code",
   "execution_count": null,
   "id": "348e4d7c",
   "metadata": {},
   "outputs": [],
   "source": []
  },
  {
   "cell_type": "markdown",
   "id": "d7739c16",
   "metadata": {},
   "source": [
    "### 3. 分类模型与预测分析"
   ]
  },
  {
   "cell_type": "code",
   "execution_count": null,
   "id": "a353524b",
   "metadata": {},
   "outputs": [],
   "source": []
  },
  {
   "cell_type": "markdown",
   "id": "522f33f2",
   "metadata": {},
   "source": [
    "### 4. 关联规则挖掘"
   ]
  },
  {
   "cell_type": "code",
   "execution_count": 18,
   "id": "03c0cae5",
   "metadata": {},
   "outputs": [],
   "source": [
    "def classify_academic_pressure(pressure):\n",
    "    if pressure < 2.0:\n",
    "        return 'Low'\n",
    "    elif pressure < 4.0:\n",
    "        return 'Medium'\n",
    "    else:\n",
    "        return 'High'\n",
    "\n",
    "df['Academic Pressure Class'] = df['Academic Pressure'].apply(classify_academic_pressure)"
   ]
  },
  {
   "cell_type": "code",
   "execution_count": 19,
   "id": "ef523783",
   "metadata": {},
   "outputs": [],
   "source": [
    "def classify_study_satisfaction(satisfaction):\n",
    "    if satisfaction < 2.0:\n",
    "        return 'Low'\n",
    "    elif satisfaction < 4.0:\n",
    "        return 'Medium'\n",
    "    else:\n",
    "        return 'High'\n",
    "\n",
    "df['Study Satisfaction Class'] = df['Study Satisfaction'].apply(classify_study_satisfaction)"
   ]
  },
  {
   "cell_type": "code",
   "execution_count": 20,
   "id": "5868b332",
   "metadata": {},
   "outputs": [],
   "source": [
    "def classify_financial_stress(stress):\n",
    "    if stress < 2.0:\n",
    "        return 'Low'\n",
    "    elif stress < 4.0:\n",
    "        return 'Medium'\n",
    "    else:\n",
    "        return 'High'\n",
    "\n",
    "df['Financial Stress Class'] = df['Financial Stress'].apply(classify_financial_stress)"
   ]
  },
  {
   "cell_type": "code",
   "execution_count": 21,
   "id": "a474a1e5",
   "metadata": {},
   "outputs": [],
   "source": [
    "def classify_work_study_hours(hours):\n",
    "    if hours < 5.0:\n",
    "        return 'Low'\n",
    "    elif hours < 10.0:\n",
    "        return 'Medium'\n",
    "    else:\n",
    "        return 'High'\n",
    "\n",
    "df['Work/Study Hours Class'] = df['Work/Study Hours'].apply(classify_work_study_hours)"
   ]
  },
  {
   "cell_type": "code",
   "execution_count": 22,
   "id": "3bcfbd74",
   "metadata": {},
   "outputs": [],
   "source": [
    "def classify_cgpa(cgpa):\n",
    "    if cgpa < 5.0:\n",
    "        return 'Low'\n",
    "    elif cgpa < 7.0:\n",
    "        return 'Medium'\n",
    "    else:\n",
    "        return 'High'\n",
    "\n",
    "df['CGPA Class'] = df['CGPA'].apply(classify_cgpa)"
   ]
  },
  {
   "cell_type": "code",
   "execution_count": 23,
   "id": "9b5d6788",
   "metadata": {},
   "outputs": [],
   "source": [
    "def classify_age(age):\n",
    "    if age < 20:\n",
    "        return 'Teenager'\n",
    "    elif age < 30:\n",
    "        return 'Young Adult'\n",
    "    else:\n",
    "        return 'Adult'\n",
    "\n",
    "df['Age Class'] = df['Age'].apply(classify_age)"
   ]
  },
  {
   "cell_type": "code",
   "execution_count": 24,
   "id": "604e9247",
   "metadata": {},
   "outputs": [
    {
     "data": {
      "text/html": [
       "<div>\n",
       "<style scoped>\n",
       "    .dataframe tbody tr th:only-of-type {\n",
       "        vertical-align: middle;\n",
       "    }\n",
       "\n",
       "    .dataframe tbody tr th {\n",
       "        vertical-align: top;\n",
       "    }\n",
       "\n",
       "    .dataframe thead th {\n",
       "        text-align: right;\n",
       "    }\n",
       "</style>\n",
       "<table border=\"1\" class=\"dataframe\">\n",
       "  <thead>\n",
       "    <tr style=\"text-align: right;\">\n",
       "      <th></th>\n",
       "      <th>Depression</th>\n",
       "      <th>Gender_Female</th>\n",
       "      <th>Gender_Male</th>\n",
       "      <th>Sleep Duration_5-6 hours</th>\n",
       "      <th>Sleep Duration_7-8 hours</th>\n",
       "      <th>Sleep Duration_Less than 5 hours</th>\n",
       "      <th>Sleep Duration_More than 8 hours</th>\n",
       "      <th>Sleep Duration_Others</th>\n",
       "      <th>Dietary Habits_Healthy</th>\n",
       "      <th>Dietary Habits_Moderate</th>\n",
       "      <th>...</th>\n",
       "      <th>Financial Stress Class_Medium</th>\n",
       "      <th>Work/Study Hours Class_High</th>\n",
       "      <th>Work/Study Hours Class_Low</th>\n",
       "      <th>Work/Study Hours Class_Medium</th>\n",
       "      <th>CGPA Class_High</th>\n",
       "      <th>CGPA Class_Low</th>\n",
       "      <th>CGPA Class_Medium</th>\n",
       "      <th>Age Class_Adult</th>\n",
       "      <th>Age Class_Teenager</th>\n",
       "      <th>Age Class_Young Adult</th>\n",
       "    </tr>\n",
       "  </thead>\n",
       "  <tbody>\n",
       "    <tr>\n",
       "      <th>0</th>\n",
       "      <td>1</td>\n",
       "      <td>False</td>\n",
       "      <td>True</td>\n",
       "      <td>True</td>\n",
       "      <td>False</td>\n",
       "      <td>False</td>\n",
       "      <td>False</td>\n",
       "      <td>False</td>\n",
       "      <td>True</td>\n",
       "      <td>False</td>\n",
       "      <td>...</td>\n",
       "      <td>False</td>\n",
       "      <td>False</td>\n",
       "      <td>True</td>\n",
       "      <td>False</td>\n",
       "      <td>True</td>\n",
       "      <td>False</td>\n",
       "      <td>False</td>\n",
       "      <td>True</td>\n",
       "      <td>False</td>\n",
       "      <td>False</td>\n",
       "    </tr>\n",
       "    <tr>\n",
       "      <th>1</th>\n",
       "      <td>0</td>\n",
       "      <td>True</td>\n",
       "      <td>False</td>\n",
       "      <td>True</td>\n",
       "      <td>False</td>\n",
       "      <td>False</td>\n",
       "      <td>False</td>\n",
       "      <td>False</td>\n",
       "      <td>False</td>\n",
       "      <td>True</td>\n",
       "      <td>...</td>\n",
       "      <td>True</td>\n",
       "      <td>False</td>\n",
       "      <td>True</td>\n",
       "      <td>False</td>\n",
       "      <td>False</td>\n",
       "      <td>False</td>\n",
       "      <td>True</td>\n",
       "      <td>False</td>\n",
       "      <td>False</td>\n",
       "      <td>True</td>\n",
       "    </tr>\n",
       "    <tr>\n",
       "      <th>2</th>\n",
       "      <td>0</td>\n",
       "      <td>False</td>\n",
       "      <td>True</td>\n",
       "      <td>False</td>\n",
       "      <td>False</td>\n",
       "      <td>True</td>\n",
       "      <td>False</td>\n",
       "      <td>False</td>\n",
       "      <td>True</td>\n",
       "      <td>False</td>\n",
       "      <td>...</td>\n",
       "      <td>False</td>\n",
       "      <td>False</td>\n",
       "      <td>False</td>\n",
       "      <td>True</td>\n",
       "      <td>True</td>\n",
       "      <td>False</td>\n",
       "      <td>False</td>\n",
       "      <td>True</td>\n",
       "      <td>False</td>\n",
       "      <td>False</td>\n",
       "    </tr>\n",
       "    <tr>\n",
       "      <th>3</th>\n",
       "      <td>1</td>\n",
       "      <td>True</td>\n",
       "      <td>False</td>\n",
       "      <td>False</td>\n",
       "      <td>True</td>\n",
       "      <td>False</td>\n",
       "      <td>False</td>\n",
       "      <td>False</td>\n",
       "      <td>False</td>\n",
       "      <td>True</td>\n",
       "      <td>...</td>\n",
       "      <td>False</td>\n",
       "      <td>False</td>\n",
       "      <td>True</td>\n",
       "      <td>False</td>\n",
       "      <td>False</td>\n",
       "      <td>False</td>\n",
       "      <td>True</td>\n",
       "      <td>False</td>\n",
       "      <td>False</td>\n",
       "      <td>True</td>\n",
       "    </tr>\n",
       "    <tr>\n",
       "      <th>4</th>\n",
       "      <td>0</td>\n",
       "      <td>True</td>\n",
       "      <td>False</td>\n",
       "      <td>True</td>\n",
       "      <td>False</td>\n",
       "      <td>False</td>\n",
       "      <td>False</td>\n",
       "      <td>False</td>\n",
       "      <td>False</td>\n",
       "      <td>True</td>\n",
       "      <td>...</td>\n",
       "      <td>False</td>\n",
       "      <td>False</td>\n",
       "      <td>True</td>\n",
       "      <td>False</td>\n",
       "      <td>True</td>\n",
       "      <td>False</td>\n",
       "      <td>False</td>\n",
       "      <td>False</td>\n",
       "      <td>False</td>\n",
       "      <td>True</td>\n",
       "    </tr>\n",
       "  </tbody>\n",
       "</table>\n",
       "<p>5 rows × 62 columns</p>\n",
       "</div>"
      ],
      "text/plain": [
       "   Depression  Gender_Female  Gender_Male  Sleep Duration_5-6 hours  \\\n",
       "0           1          False         True                      True   \n",
       "1           0           True        False                      True   \n",
       "2           0          False         True                     False   \n",
       "3           1           True        False                     False   \n",
       "4           0           True        False                      True   \n",
       "\n",
       "   Sleep Duration_7-8 hours  Sleep Duration_Less than 5 hours  \\\n",
       "0                     False                             False   \n",
       "1                     False                             False   \n",
       "2                     False                              True   \n",
       "3                      True                             False   \n",
       "4                     False                             False   \n",
       "\n",
       "   Sleep Duration_More than 8 hours  Sleep Duration_Others  \\\n",
       "0                             False                  False   \n",
       "1                             False                  False   \n",
       "2                             False                  False   \n",
       "3                             False                  False   \n",
       "4                             False                  False   \n",
       "\n",
       "   Dietary Habits_Healthy  Dietary Habits_Moderate  ...  \\\n",
       "0                    True                    False  ...   \n",
       "1                   False                     True  ...   \n",
       "2                    True                    False  ...   \n",
       "3                   False                     True  ...   \n",
       "4                   False                     True  ...   \n",
       "\n",
       "   Financial Stress Class_Medium  Work/Study Hours Class_High  \\\n",
       "0                          False                        False   \n",
       "1                           True                        False   \n",
       "2                          False                        False   \n",
       "3                          False                        False   \n",
       "4                          False                        False   \n",
       "\n",
       "   Work/Study Hours Class_Low  Work/Study Hours Class_Medium  CGPA Class_High  \\\n",
       "0                        True                          False             True   \n",
       "1                        True                          False            False   \n",
       "2                       False                           True             True   \n",
       "3                        True                          False            False   \n",
       "4                        True                          False             True   \n",
       "\n",
       "   CGPA Class_Low  CGPA Class_Medium  Age Class_Adult  Age Class_Teenager  \\\n",
       "0           False              False             True               False   \n",
       "1           False               True            False               False   \n",
       "2           False              False             True               False   \n",
       "3           False               True            False               False   \n",
       "4           False              False            False               False   \n",
       "\n",
       "   Age Class_Young Adult  \n",
       "0                  False  \n",
       "1                   True  \n",
       "2                  False  \n",
       "3                   True  \n",
       "4                   True  \n",
       "\n",
       "[5 rows x 62 columns]"
      ]
     },
     "execution_count": 24,
     "metadata": {},
     "output_type": "execute_result"
    }
   ],
   "source": [
    "df = df.drop(columns=['id', 'Work Pressure', 'Job Satisfaction',\n",
    "                      'Academic Pressure', 'Study Satisfaction',\n",
    "                      'Financial Stress', 'Work/Study Hours',\n",
    "                      'Age', 'CGPA', 'City', 'Profession'])\n",
    "df_encoded = pd.get_dummies(df)\n",
    "df_encoded.head()"
   ]
  },
  {
   "cell_type": "code",
   "execution_count": 25,
   "id": "3559b130",
   "metadata": {},
   "outputs": [
    {
     "name": "stdout",
     "output_type": "stream",
     "text": [
      "['Depression',\n",
      " 'Gender_Female',\n",
      " 'Gender_Male',\n",
      " 'Sleep Duration_5-6 hours',\n",
      " 'Sleep Duration_7-8 hours',\n",
      " 'Sleep Duration_Less than 5 hours',\n",
      " 'Sleep Duration_More than 8 hours',\n",
      " 'Sleep Duration_Others',\n",
      " 'Dietary Habits_Healthy',\n",
      " 'Dietary Habits_Moderate',\n",
      " 'Dietary Habits_Others',\n",
      " 'Dietary Habits_Unhealthy',\n",
      " 'Degree_B.Arch',\n",
      " 'Degree_B.Com',\n",
      " 'Degree_B.Ed',\n",
      " 'Degree_B.Pharm',\n",
      " 'Degree_B.Tech',\n",
      " 'Degree_BA',\n",
      " 'Degree_BBA',\n",
      " 'Degree_BCA',\n",
      " 'Degree_BE',\n",
      " 'Degree_BHM',\n",
      " 'Degree_BSc',\n",
      " 'Degree_Class 12',\n",
      " 'Degree_LLB',\n",
      " 'Degree_LLM',\n",
      " 'Degree_M.Com',\n",
      " 'Degree_M.Ed',\n",
      " 'Degree_M.Pharm',\n",
      " 'Degree_M.Tech',\n",
      " 'Degree_MA',\n",
      " 'Degree_MBA',\n",
      " 'Degree_MBBS',\n",
      " 'Degree_MCA',\n",
      " 'Degree_MD',\n",
      " 'Degree_ME',\n",
      " 'Degree_MHM',\n",
      " 'Degree_MSc',\n",
      " 'Degree_Others',\n",
      " 'Degree_PhD',\n",
      " 'Have you ever had suicidal thoughts ?_No',\n",
      " 'Have you ever had suicidal thoughts ?_Yes',\n",
      " 'Family History of Mental Illness_No',\n",
      " 'Family History of Mental Illness_Yes',\n",
      " 'Academic Pressure Class_High',\n",
      " 'Academic Pressure Class_Low',\n",
      " 'Academic Pressure Class_Medium',\n",
      " 'Study Satisfaction Class_High',\n",
      " 'Study Satisfaction Class_Low',\n",
      " 'Study Satisfaction Class_Medium',\n",
      " 'Financial Stress Class_High',\n",
      " 'Financial Stress Class_Low',\n",
      " 'Financial Stress Class_Medium',\n",
      " 'Work/Study Hours Class_High',\n",
      " 'Work/Study Hours Class_Low',\n",
      " 'Work/Study Hours Class_Medium',\n",
      " 'CGPA Class_High',\n",
      " 'CGPA Class_Low',\n",
      " 'CGPA Class_Medium',\n",
      " 'Age Class_Adult',\n",
      " 'Age Class_Teenager',\n",
      " 'Age Class_Young Adult']\n"
     ]
    }
   ],
   "source": [
    "pprint(list(df_encoded.columns))"
   ]
  },
  {
   "cell_type": "code",
   "execution_count": 26,
   "id": "5c37cc9b",
   "metadata": {},
   "outputs": [
    {
     "name": "stderr",
     "output_type": "stream",
     "text": [
      "/home/zhuhongming/miniconda3/envs/dm/lib/python3.10/site-packages/mlxtend/frequent_patterns/fpcommon.py:109: DeprecationWarning: DataFrames with non-bool types result in worse computationalperformance and their support might be discontinued in the future.Please use a DataFrame with bool type\n",
      "  warnings.warn(\n"
     ]
    }
   ],
   "source": [
    "frq_items = apriori(df_encoded, min_support=0.1, use_colnames=True)\n",
    "rules = association_rules(frq_items, metric=\"lift\", min_threshold=1)\n",
    "rules = rules.sort_values(['confidence', 'lift'], ascending=[False, False])"
   ]
  },
  {
   "cell_type": "code",
   "execution_count": 27,
   "id": "f9f1a6ad",
   "metadata": {},
   "outputs": [
    {
     "data": {
      "text/html": [
       "<div>\n",
       "<style scoped>\n",
       "    .dataframe tbody tr th:only-of-type {\n",
       "        vertical-align: middle;\n",
       "    }\n",
       "\n",
       "    .dataframe tbody tr th {\n",
       "        vertical-align: top;\n",
       "    }\n",
       "\n",
       "    .dataframe thead th {\n",
       "        text-align: right;\n",
       "    }\n",
       "</style>\n",
       "<table border=\"1\" class=\"dataframe\">\n",
       "  <thead>\n",
       "    <tr style=\"text-align: right;\">\n",
       "      <th></th>\n",
       "      <th>support</th>\n",
       "      <th>itemsets</th>\n",
       "    </tr>\n",
       "  </thead>\n",
       "  <tbody>\n",
       "    <tr>\n",
       "      <th>0</th>\n",
       "      <td>0.585526</td>\n",
       "      <td>(Depression)</td>\n",
       "    </tr>\n",
       "    <tr>\n",
       "      <th>1</th>\n",
       "      <td>0.442756</td>\n",
       "      <td>(Gender_Female)</td>\n",
       "    </tr>\n",
       "    <tr>\n",
       "      <th>2</th>\n",
       "      <td>0.557244</td>\n",
       "      <td>(Gender_Male)</td>\n",
       "    </tr>\n",
       "    <tr>\n",
       "      <th>3</th>\n",
       "      <td>0.221557</td>\n",
       "      <td>(Sleep Duration_5-6 hours)</td>\n",
       "    </tr>\n",
       "    <tr>\n",
       "      <th>4</th>\n",
       "      <td>0.263316</td>\n",
       "      <td>(Sleep Duration_7-8 hours)</td>\n",
       "    </tr>\n",
       "    <tr>\n",
       "      <th>...</th>\n",
       "      <td>...</td>\n",
       "      <td>...</td>\n",
       "    </tr>\n",
       "    <tr>\n",
       "      <th>864</th>\n",
       "      <td>0.11223</td>\n",
       "      <td>(CGPA Class_High, Family History of Mental Ill...</td>\n",
       "    </tr>\n",
       "    <tr>\n",
       "      <th>865</th>\n",
       "      <td>0.10352</td>\n",
       "      <td>(Financial Stress Class_High, CGPA Class_High,...</td>\n",
       "    </tr>\n",
       "    <tr>\n",
       "      <th>866</th>\n",
       "      <td>0.106961</td>\n",
       "      <td>(Financial Stress Class_High, Age Class_Young ...</td>\n",
       "    </tr>\n",
       "    <tr>\n",
       "      <th>867</th>\n",
       "      <td>0.122769</td>\n",
       "      <td>(CGPA Class_High, Age Class_Young Adult, Have ...</td>\n",
       "    </tr>\n",
       "    <tr>\n",
       "      <th>868</th>\n",
       "      <td>0.131586</td>\n",
       "      <td>(Financial Stress Class_High, CGPA Class_High,...</td>\n",
       "    </tr>\n",
       "  </tbody>\n",
       "</table>\n",
       "<p>869 rows × 2 columns</p>\n",
       "</div>"
      ],
      "text/plain": [
       "      support                                           itemsets\n",
       "0    0.585526                                       (Depression)\n",
       "1    0.442756                                    (Gender_Female)\n",
       "2    0.557244                                      (Gender_Male)\n",
       "3    0.221557                         (Sleep Duration_5-6 hours)\n",
       "4    0.263316                         (Sleep Duration_7-8 hours)\n",
       "..        ...                                                ...\n",
       "864   0.11223  (CGPA Class_High, Family History of Mental Ill...\n",
       "865   0.10352  (Financial Stress Class_High, CGPA Class_High,...\n",
       "866  0.106961  (Financial Stress Class_High, Age Class_Young ...\n",
       "867  0.122769  (CGPA Class_High, Age Class_Young Adult, Have ...\n",
       "868  0.131586  (Financial Stress Class_High, CGPA Class_High,...\n",
       "\n",
       "[869 rows x 2 columns]"
      ]
     },
     "execution_count": 27,
     "metadata": {},
     "output_type": "execute_result"
    }
   ],
   "source": [
    "frq_items"
   ]
  },
  {
   "cell_type": "code",
   "execution_count": 28,
   "id": "4c0ebc14",
   "metadata": {},
   "outputs": [
    {
     "data": {
      "text/html": [
       "<div>\n",
       "<style scoped>\n",
       "    .dataframe tbody tr th:only-of-type {\n",
       "        vertical-align: middle;\n",
       "    }\n",
       "\n",
       "    .dataframe tbody tr th {\n",
       "        vertical-align: top;\n",
       "    }\n",
       "\n",
       "    .dataframe thead th {\n",
       "        text-align: right;\n",
       "    }\n",
       "</style>\n",
       "<table border=\"1\" class=\"dataframe\">\n",
       "  <thead>\n",
       "    <tr style=\"text-align: right;\">\n",
       "      <th></th>\n",
       "      <th>antecedents</th>\n",
       "      <th>consequents</th>\n",
       "      <th>antecedent support</th>\n",
       "      <th>consequent support</th>\n",
       "      <th>support</th>\n",
       "      <th>confidence</th>\n",
       "      <th>lift</th>\n",
       "      <th>leverage</th>\n",
       "      <th>conviction</th>\n",
       "      <th>zhangs_metric</th>\n",
       "    </tr>\n",
       "  </thead>\n",
       "  <tbody>\n",
       "    <tr>\n",
       "      <th>167</th>\n",
       "      <td>(Age Class_Teenager)</td>\n",
       "      <td>(Degree_Class 12)</td>\n",
       "      <td>0.112804</td>\n",
       "      <td>0.217937</td>\n",
       "      <td>0.112051</td>\n",
       "      <td>0.993327</td>\n",
       "      <td>4.557868</td>\n",
       "      <td>0.087467</td>\n",
       "      <td>117.197761</td>\n",
       "      <td>0.879850</td>\n",
       "    </tr>\n",
       "    <tr>\n",
       "      <th>3770</th>\n",
       "      <td>(Financial Stress Class_High, Have you ever ha...</td>\n",
       "      <td>(Depression)</td>\n",
       "      <td>0.110187</td>\n",
       "      <td>0.585526</td>\n",
       "      <td>0.106961</td>\n",
       "      <td>0.970722</td>\n",
       "      <td>1.657864</td>\n",
       "      <td>0.042444</td>\n",
       "      <td>14.156595</td>\n",
       "      <td>0.445952</td>\n",
       "    </tr>\n",
       "    <tr>\n",
       "      <th>3742</th>\n",
       "      <td>(Financial Stress Class_High, Have you ever ha...</td>\n",
       "      <td>(Depression)</td>\n",
       "      <td>0.107176</td>\n",
       "      <td>0.585526</td>\n",
       "      <td>0.103520</td>\n",
       "      <td>0.965886</td>\n",
       "      <td>1.649605</td>\n",
       "      <td>0.040766</td>\n",
       "      <td>12.149782</td>\n",
       "      <td>0.441066</td>\n",
       "    </tr>\n",
       "    <tr>\n",
       "      <th>2561</th>\n",
       "      <td>(Financial Stress Class_High, Have you ever ha...</td>\n",
       "      <td>(Depression)</td>\n",
       "      <td>0.165137</td>\n",
       "      <td>0.585526</td>\n",
       "      <td>0.159044</td>\n",
       "      <td>0.963100</td>\n",
       "      <td>1.644846</td>\n",
       "      <td>0.062352</td>\n",
       "      <td>11.232250</td>\n",
       "      <td>0.469586</td>\n",
       "    </tr>\n",
       "    <tr>\n",
       "      <th>2575</th>\n",
       "      <td>(Academic Pressure Class_High, Have you ever h...</td>\n",
       "      <td>(Depression)</td>\n",
       "      <td>0.129185</td>\n",
       "      <td>0.585526</td>\n",
       "      <td>0.122805</td>\n",
       "      <td>0.950610</td>\n",
       "      <td>1.623516</td>\n",
       "      <td>0.047163</td>\n",
       "      <td>8.391937</td>\n",
       "      <td>0.441027</td>\n",
       "    </tr>\n",
       "    <tr>\n",
       "      <th>2285</th>\n",
       "      <td>(Dietary Habits_Unhealthy, Have you ever had s...</td>\n",
       "      <td>(Depression)</td>\n",
       "      <td>0.135314</td>\n",
       "      <td>0.585526</td>\n",
       "      <td>0.128504</td>\n",
       "      <td>0.949669</td>\n",
       "      <td>1.621908</td>\n",
       "      <td>0.049274</td>\n",
       "      <td>8.234947</td>\n",
       "      <td>0.443447</td>\n",
       "    </tr>\n",
       "    <tr>\n",
       "      <th>3800</th>\n",
       "      <td>(Age Class_Young Adult, Have you ever had suic...</td>\n",
       "      <td>(Depression)</td>\n",
       "      <td>0.130726</td>\n",
       "      <td>0.585526</td>\n",
       "      <td>0.122769</td>\n",
       "      <td>0.939128</td>\n",
       "      <td>1.603905</td>\n",
       "      <td>0.046225</td>\n",
       "      <td>6.808952</td>\n",
       "      <td>0.433145</td>\n",
       "    </tr>\n",
       "    <tr>\n",
       "      <th>3540</th>\n",
       "      <td>(Age Class_Young Adult, Have you ever had suic...</td>\n",
       "      <td>(Depression)</td>\n",
       "      <td>0.108646</td>\n",
       "      <td>0.585526</td>\n",
       "      <td>0.101584</td>\n",
       "      <td>0.935005</td>\n",
       "      <td>1.596864</td>\n",
       "      <td>0.037969</td>\n",
       "      <td>6.377011</td>\n",
       "      <td>0.419331</td>\n",
       "    </tr>\n",
       "    <tr>\n",
       "      <th>2615</th>\n",
       "      <td>(Age Class_Young Adult, Have you ever had suic...</td>\n",
       "      <td>(Depression)</td>\n",
       "      <td>0.201986</td>\n",
       "      <td>0.585526</td>\n",
       "      <td>0.188544</td>\n",
       "      <td>0.933452</td>\n",
       "      <td>1.594211</td>\n",
       "      <td>0.070276</td>\n",
       "      <td>6.228165</td>\n",
       "      <td>0.467072</td>\n",
       "    </tr>\n",
       "    <tr>\n",
       "      <th>2298</th>\n",
       "      <td>(Dietary Habits_Unhealthy, Financial Stress Cl...</td>\n",
       "      <td>(Depression)</td>\n",
       "      <td>0.141946</td>\n",
       "      <td>0.585526</td>\n",
       "      <td>0.132447</td>\n",
       "      <td>0.933081</td>\n",
       "      <td>1.593577</td>\n",
       "      <td>0.049334</td>\n",
       "      <td>6.193652</td>\n",
       "      <td>0.434100</td>\n",
       "    </tr>\n",
       "  </tbody>\n",
       "</table>\n",
       "</div>"
      ],
      "text/plain": [
       "                                            antecedents        consequents  \\\n",
       "167                                (Age Class_Teenager)  (Degree_Class 12)   \n",
       "3770  (Financial Stress Class_High, Have you ever ha...       (Depression)   \n",
       "3742  (Financial Stress Class_High, Have you ever ha...       (Depression)   \n",
       "2561  (Financial Stress Class_High, Have you ever ha...       (Depression)   \n",
       "2575  (Academic Pressure Class_High, Have you ever h...       (Depression)   \n",
       "2285  (Dietary Habits_Unhealthy, Have you ever had s...       (Depression)   \n",
       "3800  (Age Class_Young Adult, Have you ever had suic...       (Depression)   \n",
       "3540  (Age Class_Young Adult, Have you ever had suic...       (Depression)   \n",
       "2615  (Age Class_Young Adult, Have you ever had suic...       (Depression)   \n",
       "2298  (Dietary Habits_Unhealthy, Financial Stress Cl...       (Depression)   \n",
       "\n",
       "      antecedent support  consequent support   support  confidence      lift  \\\n",
       "167             0.112804            0.217937  0.112051    0.993327  4.557868   \n",
       "3770            0.110187            0.585526  0.106961    0.970722  1.657864   \n",
       "3742            0.107176            0.585526  0.103520    0.965886  1.649605   \n",
       "2561            0.165137            0.585526  0.159044    0.963100  1.644846   \n",
       "2575            0.129185            0.585526  0.122805    0.950610  1.623516   \n",
       "2285            0.135314            0.585526  0.128504    0.949669  1.621908   \n",
       "3800            0.130726            0.585526  0.122769    0.939128  1.603905   \n",
       "3540            0.108646            0.585526  0.101584    0.935005  1.596864   \n",
       "2615            0.201986            0.585526  0.188544    0.933452  1.594211   \n",
       "2298            0.141946            0.585526  0.132447    0.933081  1.593577   \n",
       "\n",
       "      leverage  conviction  zhangs_metric  \n",
       "167   0.087467  117.197761       0.879850  \n",
       "3770  0.042444   14.156595       0.445952  \n",
       "3742  0.040766   12.149782       0.441066  \n",
       "2561  0.062352   11.232250       0.469586  \n",
       "2575  0.047163    8.391937       0.441027  \n",
       "2285  0.049274    8.234947       0.443447  \n",
       "3800  0.046225    6.808952       0.433145  \n",
       "3540  0.037969    6.377011       0.419331  \n",
       "2615  0.070276    6.228165       0.467072  \n",
       "2298  0.049334    6.193652       0.434100  "
      ]
     },
     "execution_count": 28,
     "metadata": {},
     "output_type": "execute_result"
    }
   ],
   "source": [
    "rules.head(10)"
   ]
  },
  {
   "cell_type": "code",
   "execution_count": 29,
   "id": "3d3cf63d",
   "metadata": {},
   "outputs": [
    {
     "name": "stdout",
     "output_type": "stream",
     "text": [
      "[frozenset({'Age Class_Teenager'}),\n",
      " frozenset({'Academic Pressure Class_High',\n",
      "            'Age Class_Young Adult',\n",
      "            'Financial Stress Class_High',\n",
      "            'Have you ever had suicidal thoughts ?_Yes'}),\n",
      " frozenset({'Academic Pressure Class_High',\n",
      "            'CGPA Class_High',\n",
      "            'Financial Stress Class_High',\n",
      "            'Have you ever had suicidal thoughts ?_Yes'}),\n",
      " frozenset({'Academic Pressure Class_High',\n",
      "            'Financial Stress Class_High',\n",
      "            'Have you ever had suicidal thoughts ?_Yes'}),\n",
      " frozenset({'Academic Pressure Class_High',\n",
      "            'Have you ever had suicidal thoughts ?_Yes',\n",
      "            'Work/Study Hours Class_High'}),\n",
      " frozenset({'Academic Pressure Class_High',\n",
      "            'Dietary Habits_Unhealthy',\n",
      "            'Have you ever had suicidal thoughts ?_Yes'}),\n",
      " frozenset({'Academic Pressure Class_High',\n",
      "            'Age Class_Young Adult',\n",
      "            'CGPA Class_High',\n",
      "            'Have you ever had suicidal thoughts ?_Yes'}),\n",
      " frozenset({'Academic Pressure Class_High',\n",
      "            'Age Class_Young Adult',\n",
      "            'Gender_Male',\n",
      "            'Have you ever had suicidal thoughts ?_Yes'}),\n",
      " frozenset({'Academic Pressure Class_High',\n",
      "            'Age Class_Young Adult',\n",
      "            'Have you ever had suicidal thoughts ?_Yes'}),\n",
      " frozenset({'Dietary Habits_Unhealthy',\n",
      "            'Financial Stress Class_High',\n",
      "            'Have you ever had suicidal thoughts ?_Yes'})]\n"
     ]
    }
   ],
   "source": [
    "pprint(list(rules['antecedents'].head(10).values))"
   ]
  },
  {
   "cell_type": "code",
   "execution_count": null,
   "id": "973be357",
   "metadata": {},
   "outputs": [],
   "source": []
  }
 ],
 "metadata": {
  "kernelspec": {
   "display_name": "dm",
   "language": "python",
   "name": "python3"
  },
  "language_info": {
   "codemirror_mode": {
    "name": "ipython",
    "version": 3
   },
   "file_extension": ".py",
   "mimetype": "text/x-python",
   "name": "python",
   "nbconvert_exporter": "python",
   "pygments_lexer": "ipython3",
   "version": "3.10.16"
  }
 },
 "nbformat": 4,
 "nbformat_minor": 5
}
